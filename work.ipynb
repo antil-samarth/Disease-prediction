{
 "cells": [
  {
   "cell_type": "code",
   "execution_count": 6,
   "metadata": {},
   "outputs": [],
   "source": [
    "import pandas as pd"
   ]
  },
  {
   "cell_type": "code",
   "execution_count": 7,
   "metadata": {},
   "outputs": [
    {
     "data": {
      "text/html": [
       "<div>\n",
       "<style scoped>\n",
       "    .dataframe tbody tr th:only-of-type {\n",
       "        vertical-align: middle;\n",
       "    }\n",
       "\n",
       "    .dataframe tbody tr th {\n",
       "        vertical-align: top;\n",
       "    }\n",
       "\n",
       "    .dataframe thead th {\n",
       "        text-align: right;\n",
       "    }\n",
       "</style>\n",
       "<table border=\"1\" class=\"dataframe\">\n",
       "  <thead>\n",
       "    <tr style=\"text-align: right;\">\n",
       "      <th></th>\n",
       "      <th>AGE</th>\n",
       "      <th>DIFFERENTIAL_DIAGNOSIS</th>\n",
       "      <th>SEX</th>\n",
       "      <th>PATHOLOGY</th>\n",
       "      <th>EVIDENCES</th>\n",
       "      <th>INITIAL_EVIDENCE</th>\n",
       "    </tr>\n",
       "  </thead>\n",
       "  <tbody>\n",
       "    <tr>\n",
       "      <th>0</th>\n",
       "      <td>55</td>\n",
       "      <td>[['Anemia', 0.25071110167158567], ['Atrial fib...</td>\n",
       "      <td>F</td>\n",
       "      <td>Anemia</td>\n",
       "      <td>['E_7', 'E_24', 'E_26', 'E_53', 'E_54_@_V_180'...</td>\n",
       "      <td>E_154</td>\n",
       "    </tr>\n",
       "    <tr>\n",
       "      <th>1</th>\n",
       "      <td>10</td>\n",
       "      <td>[['Guillain-Barré syndrome', 0.135558991316712...</td>\n",
       "      <td>F</td>\n",
       "      <td>Panic attack</td>\n",
       "      <td>['E_16', 'E_29', 'E_50', 'E_53', 'E_54_@_V_182...</td>\n",
       "      <td>E_171</td>\n",
       "    </tr>\n",
       "    <tr>\n",
       "      <th>2</th>\n",
       "      <td>68</td>\n",
       "      <td>[['Influenza', 0.1900250899717378], ['Viral ph...</td>\n",
       "      <td>F</td>\n",
       "      <td>Influenza</td>\n",
       "      <td>['E_50', 'E_53', 'E_54_@_V_183', 'E_54_@_V_198...</td>\n",
       "      <td>E_53</td>\n",
       "    </tr>\n",
       "    <tr>\n",
       "      <th>3</th>\n",
       "      <td>13</td>\n",
       "      <td>[['Anemia', 0.18697604010451876], ['Atrial fib...</td>\n",
       "      <td>M</td>\n",
       "      <td>Anemia</td>\n",
       "      <td>['E_7', 'E_24', 'E_26', 'E_53', 'E_54_@_V_180'...</td>\n",
       "      <td>E_53</td>\n",
       "    </tr>\n",
       "    <tr>\n",
       "      <th>4</th>\n",
       "      <td>48</td>\n",
       "      <td>[['Boerhaave', 1.0]]</td>\n",
       "      <td>M</td>\n",
       "      <td>Boerhaave</td>\n",
       "      <td>['E_53', 'E_54_@_V_71', 'E_54_@_V_112', 'E_54_...</td>\n",
       "      <td>E_53</td>\n",
       "    </tr>\n",
       "  </tbody>\n",
       "</table>\n",
       "</div>"
      ],
      "text/plain": [
       "   AGE                             DIFFERENTIAL_DIAGNOSIS SEX     PATHOLOGY  \\\n",
       "0   55  [['Anemia', 0.25071110167158567], ['Atrial fib...   F        Anemia   \n",
       "1   10  [['Guillain-Barré syndrome', 0.135558991316712...   F  Panic attack   \n",
       "2   68  [['Influenza', 0.1900250899717378], ['Viral ph...   F     Influenza   \n",
       "3   13  [['Anemia', 0.18697604010451876], ['Atrial fib...   M        Anemia   \n",
       "4   48                               [['Boerhaave', 1.0]]   M     Boerhaave   \n",
       "\n",
       "                                           EVIDENCES INITIAL_EVIDENCE  \n",
       "0  ['E_7', 'E_24', 'E_26', 'E_53', 'E_54_@_V_180'...            E_154  \n",
       "1  ['E_16', 'E_29', 'E_50', 'E_53', 'E_54_@_V_182...            E_171  \n",
       "2  ['E_50', 'E_53', 'E_54_@_V_183', 'E_54_@_V_198...             E_53  \n",
       "3  ['E_7', 'E_24', 'E_26', 'E_53', 'E_54_@_V_180'...             E_53  \n",
       "4  ['E_53', 'E_54_@_V_71', 'E_54_@_V_112', 'E_54_...             E_53  "
      ]
     },
     "execution_count": 7,
     "metadata": {},
     "output_type": "execute_result"
    }
   ],
   "source": [
    "df=pd.read_csv(\"Data/dataset.csv\")\n",
    "df.head()"
   ]
  }
 ],
 "metadata": {
  "kernelspec": {
   "display_name": "venv",
   "language": "python",
   "name": "python3"
  },
  "language_info": {
   "codemirror_mode": {
    "name": "ipython",
    "version": 3
   },
   "file_extension": ".py",
   "mimetype": "text/x-python",
   "name": "python",
   "nbconvert_exporter": "python",
   "pygments_lexer": "ipython3",
   "version": "3.9.7"
  },
  "orig_nbformat": 4
 },
 "nbformat": 4,
 "nbformat_minor": 2
}
